{
 "cells": [
  {
   "cell_type": "markdown",
   "id": "1d3be175",
   "metadata": {},
   "source": [
    "# A1: Data Curation\n",
    "\n",
    "This notebook will construct, analyze and publish a dataset of monthly traffic on English Wikipedia from January 1, 2008 through the end of last month. To change the ending month, `last_month` can be reassinged to the desired year and month (YYYYMM). Note that `last_month` used in both the API calls and generating file names."
   ]
  },
  {
   "cell_type": "code",
   "execution_count": 1,
   "id": "af7c8353",
   "metadata": {},
   "outputs": [
    {
     "name": "stdout",
     "output_type": "stream",
     "text": [
      "202109\n"
     ]
    }
   ],
   "source": [
    "import datetime\n",
    "\n",
    "# Calculate last month; set to string\n",
    "today = datetime.date.today()\n",
    "last_month = (today.replace(day=1) - datetime.timedelta(days=1)).replace(day=1)\n",
    "last_month = str(last_month.year) + str(last_month.strftime('%m'))\n",
    "print(last_month)"
   ]
  },
  {
   "cell_type": "markdown",
   "id": "ea8d8b35",
   "metadata": {},
   "source": [
    "We will be using Wikipedia page traffic data from two different Wikimedia REST API endpoints, the Legacy Pagecounts API and the Pageviews API. In the API calls, you will want to specify the headers with your own information, as seen below:"
   ]
  },
  {
   "cell_type": "code",
   "execution_count": 2,
   "id": "0b1b7315",
   "metadata": {},
   "outputs": [],
   "source": [
    "# Customize these with your own information\n",
    "headers = {\n",
    "    'User-Agent': 'https://github.com/helen-ngo',\n",
    "    'From': 'helenngo@uw.edu'\n",
    "}"
   ]
  },
  {
   "cell_type": "markdown",
   "id": "222ddc5c",
   "metadata": {},
   "source": [
    "## Step 1: Data Acquisition"
   ]
  },
  {
   "cell_type": "code",
   "execution_count": 3,
   "id": "19ace29c",
   "metadata": {},
   "outputs": [],
   "source": [
    "import json\n",
    "import requests\n",
    "import pandas as pd"
   ]
  },
  {
   "cell_type": "markdown",
   "id": "5ff8c843",
   "metadata": {},
   "source": [
    "While the Legacy Pagecounts API provides access to desktop and mobile traffic data from December 2007 through July 2016, the Pageviews API provides access to desktop, mobile web, and mobile app traffic data from July 2015 through last month. The endpoints and necessary parameters to get all aggregated data is already present in this notebook, but additinal information can be found in the links below:\n",
    "\n",
    "Legacy Pagecounts API: https://wikimedia.org/api/rest_v1/#!/Legacy_data/get_metrics_legacy_pagecounts_aggregate_project_access_site_granularity_start_end\n",
    "\n",
    "Pageviews API:\n",
    "https://wikimedia.org/api/rest_v1/#!/Pageviews_data/get_metrics_pageviews_aggregate_project_access_agent_granularity_start_end\n",
    "\n"
   ]
  },
  {
   "cell_type": "code",
   "execution_count": 4,
   "id": "bc921a2e",
   "metadata": {},
   "outputs": [],
   "source": [
    "# The Legacy Pagecounts API\n",
    "endpoint_legacy = 'https://wikimedia.org/api/rest_v1/metrics/legacy/pagecounts/aggregate/{project}/{access-site}/{granularity}/{start}/{end}'\n",
    "\n",
    "# The Pageviews API\n",
    "endpoint_pageviews = 'https://wikimedia.org/api/rest_v1/metrics/pageviews/aggregate/{project}/{access}/{agent}/{granularity}/{start}/{end}'"
   ]
  },
  {
   "cell_type": "markdown",
   "id": "1f62e246",
   "metadata": {},
   "source": [
    "We are interested in organic (user) traffic, so we will filter by `agent=user` when possible. Since only the Pageviews API has this feature, the Legacy Pagecounts data will include traffic by web crawlers or spiders. There is a set of parameters for each API and each API query type."
   ]
  },
  {
   "cell_type": "code",
   "execution_count": 5,
   "id": "2db36374",
   "metadata": {},
   "outputs": [],
   "source": [
    "# Desktop access: parameters for getting aggregated legacy view data\n",
    "params_legacy_desktop = {\"project\" : \"en.wikipedia.org\",\n",
    "                 \"access-site\" : \"desktop-site\",\n",
    "                 \"granularity\" : \"monthly\",\n",
    "                 \"start\" : \"2007120100\",\n",
    "                # for end use 1st day of month following final month of data\n",
    "                 \"end\" : last_month + \"0100\"\n",
    "                    }\n",
    "\n",
    "# Mobile access: parameters for getting aggregated desktop legacy view data\n",
    "params_legacy_mobile = {\"project\" : \"en.wikipedia.org\",\n",
    "                 \"access-site\" : \"mobile-site\",\n",
    "                 \"granularity\" : \"monthly\",\n",
    "                 \"start\" : \"2007120100\",\n",
    "                # for end use 1st day of month following final month of data\n",
    "                 \"end\" : last_month + \"0100\"\n",
    "                    }\n",
    "\n",
    "# Desktop access: parameters for getting aggregated current standard pageview data\n",
    "params_pageviews_desktop = {\"project\" : \"en.wikipedia.org\",\n",
    "                    \"access\" : \"desktop\",\n",
    "                    \"agent\" : \"user\",\n",
    "                    \"granularity\" : \"monthly\",\n",
    "                    \"start\" : \"2007120100\",\n",
    "                    # for end use 1st day of month following final month of data\n",
    "                    \"end\" : last_month + \"0100\"\n",
    "                        }\n",
    "\n",
    "# Mobile website access: parameters for getting aggregated current standard pageview data\n",
    "params_pageviews_mobile_web = {\"project\" : \"en.wikipedia.org\",\n",
    "                    \"access\" : \"mobile-web\",\n",
    "                    \"agent\" : \"user\",\n",
    "                    \"granularity\" : \"monthly\",\n",
    "                    \"start\" : \"2007120100\",\n",
    "                    # for end use 1st day of month following final month of data\n",
    "                    \"end\" : last_month + \"0100\"\n",
    "                        }\n",
    "\n",
    "# Mobile app access: parameters for getting aggregated current standard pageview data\n",
    "params_pageviews_mobile_app = {\"project\" : \"en.wikipedia.org\",\n",
    "                    \"access\" : \"mobile-app\",\n",
    "                    \"agent\" : \"user\",\n",
    "                    \"granularity\" : \"monthly\",\n",
    "                    \"start\" : \"2007120100\",\n",
    "                    # for end use 1st day of month following final month of data\n",
    "                    \"end\" : last_month + \"0100\"\n",
    "                        }"
   ]
  },
  {
   "cell_type": "markdown",
   "id": "77a3f710",
   "metadata": {},
   "source": [
    "Since every JSON-formatted source data file must contain the complete and unedited output of the API queries, we will use a function, `save_api_call`, that calls the API and saves the response. In addition, `save_api_call` will also format the JSON object into a pandas dataframe, setting us up for the next step, data processing."
   ]
  },
  {
   "cell_type": "code",
   "execution_count": 6,
   "id": "4874fd64",
   "metadata": {},
   "outputs": [],
   "source": [
    "def save_api_call(endpoint,parameters,filename):\n",
    "    \"\"\"\n",
    "    save_api_call saves the unedited JSON-formatted ouput of a Legacy Pagecounts API or Pageviews API call, \n",
    "    then it reformats the output into a pandas dataframe.\n",
    "\n",
    "    endpoint: Legacy Pagecounts API or Pageviews API endpoint\n",
    "    parameters: parameters for respective API\n",
    "    filename: name of the JSON file to be saved\n",
    "    return: pandas dataframe of the response from API call\n",
    "    \"\"\" \n",
    "    \n",
    "    # Make API call\n",
    "    call = requests.get(endpoint.format(**parameters), headers=headers)\n",
    "    response = call.json()\n",
    "    \n",
    "    # Save JSON output\n",
    "    with open(filename, \"w\") as outfile:\n",
    "        json.dump(response, outfile)\n",
    "    \n",
    "    # Convert output to pandas dataframe\n",
    "    json_flat = pd.json_normalize(response, record_path =['items'])\n",
    "\n",
    "    return json_flat"
   ]
  },
  {
   "cell_type": "code",
   "execution_count": 7,
   "id": "16f54213",
   "metadata": {},
   "outputs": [],
   "source": [
    "# API query for legacy desktop traffic data\n",
    "monthly_legacy_desktop = save_api_call(endpoint_legacy, params_legacy_desktop,\"pagecounts_desktop-site_200712-\" + last_month + \".json\")\n",
    "\n",
    "# API query for legacy mobile traffic data\n",
    "monthly_legacy_mobile = save_api_call(endpoint_legacy, params_legacy_mobile,\"pagecounts_mobile-site_200712-\" + last_month + \".json\")\n",
    "\n",
    "# API query for current pageviews desktop traffic data\n",
    "monthly_pageviews_desktop = save_api_call(endpoint_pageviews, params_pageviews_desktop,\"pageviews_desktop_200712-\" + last_month + \".json\")\n",
    "\n",
    "# API query for current pageviews mobile website traffic data\n",
    "monthly_pageviews_mobile_web = save_api_call(endpoint_pageviews, params_pageviews_mobile_web,\"pageviews_mobile-web_200712-\" + last_month + \".json\")\n",
    "\n",
    "# API query for current pageviews mobile app traffic data\n",
    "monthly_pageviews_mobile_app = save_api_call(endpoint_pageviews, params_pageviews_mobile_app,\"pageviews_mobile-app_200712-\" + last_month + \".json\")\n"
   ]
  },
  {
   "cell_type": "markdown",
   "id": "601a126e",
   "metadata": {},
   "source": [
    "## Step 2: Data processing"
   ]
  },
  {
   "cell_type": "markdown",
   "id": "eef5ae2e",
   "metadata": {},
   "source": [
    "For all data, we will separate the value of timestamp into four-digit year (YYYY) and two-digit month (MM). The day and hour (DDHH) values will be discarded when the dataframes are combined."
   ]
  },
  {
   "cell_type": "code",
   "execution_count": 8,
   "id": "c215edaf",
   "metadata": {},
   "outputs": [],
   "source": [
    "def separate_timestamp(monthly_traffic_df):\n",
    "    monthly_traffic_df[\"year\"] = monthly_traffic_df[\"timestamp\"].str.extract('(^\\d{4})')\n",
    "    monthly_traffic_df[\"month\"] = monthly_traffic_df[\"timestamp\"].str.extract('((?<=\\d{4})\\d{2})')\n",
    "        \n",
    "    return monthly_traffic_df"
   ]
  },
  {
   "cell_type": "code",
   "execution_count": 9,
   "id": "5729040e",
   "metadata": {},
   "outputs": [],
   "source": [
    "# Separate timestamps for each API/access type\n",
    "monthly_legacy_desktop = separate_timestamp(monthly_legacy_desktop)\n",
    "monthly_legacy_mobile = separate_timestamp(monthly_legacy_mobile)\n",
    "monthly_pageviews_desktop = separate_timestamp(monthly_pageviews_desktop)\n",
    "monthly_pageviews_mobile_web = separate_timestamp(monthly_pageviews_mobile_web)\n",
    "monthly_pageviews_mobile_app = separate_timestamp(monthly_pageviews_mobile_app)"
   ]
  },
  {
   "cell_type": "markdown",
   "id": "5d6580d7",
   "metadata": {},
   "source": [
    "For data collected from the Pageviews API, we will combine the monthly values for mobile-app and mobile-web to create a total mobile traffic count for each month. "
   ]
  },
  {
   "cell_type": "code",
   "execution_count": 10,
   "id": "c08b30d6",
   "metadata": {},
   "outputs": [
    {
     "data": {
      "text/html": [
       "<div>\n",
       "<style scoped>\n",
       "    .dataframe tbody tr th:only-of-type {\n",
       "        vertical-align: middle;\n",
       "    }\n",
       "\n",
       "    .dataframe tbody tr th {\n",
       "        vertical-align: top;\n",
       "    }\n",
       "\n",
       "    .dataframe thead th {\n",
       "        text-align: right;\n",
       "    }\n",
       "</style>\n",
       "<table border=\"1\" class=\"dataframe\">\n",
       "  <thead>\n",
       "    <tr style=\"text-align: right;\">\n",
       "      <th></th>\n",
       "      <th>year</th>\n",
       "      <th>month</th>\n",
       "      <th>views</th>\n",
       "    </tr>\n",
       "  </thead>\n",
       "  <tbody>\n",
       "    <tr>\n",
       "      <th>0</th>\n",
       "      <td>2015</td>\n",
       "      <td>07</td>\n",
       "      <td>3288755294</td>\n",
       "    </tr>\n",
       "    <tr>\n",
       "      <th>1</th>\n",
       "      <td>2015</td>\n",
       "      <td>08</td>\n",
       "      <td>3302333038</td>\n",
       "    </tr>\n",
       "    <tr>\n",
       "      <th>2</th>\n",
       "      <td>2015</td>\n",
       "      <td>09</td>\n",
       "      <td>3170203333</td>\n",
       "    </tr>\n",
       "    <tr>\n",
       "      <th>3</th>\n",
       "      <td>2015</td>\n",
       "      <td>10</td>\n",
       "      <td>3268499132</td>\n",
       "    </tr>\n",
       "    <tr>\n",
       "      <th>4</th>\n",
       "      <td>2015</td>\n",
       "      <td>11</td>\n",
       "      <td>3236601070</td>\n",
       "    </tr>\n",
       "    <tr>\n",
       "      <th>...</th>\n",
       "      <td>...</td>\n",
       "      <td>...</td>\n",
       "      <td>...</td>\n",
       "    </tr>\n",
       "    <tr>\n",
       "      <th>69</th>\n",
       "      <td>2021</td>\n",
       "      <td>04</td>\n",
       "      <td>4759095083</td>\n",
       "    </tr>\n",
       "    <tr>\n",
       "      <th>70</th>\n",
       "      <td>2021</td>\n",
       "      <td>05</td>\n",
       "      <td>4976579558</td>\n",
       "    </tr>\n",
       "    <tr>\n",
       "      <th>71</th>\n",
       "      <td>2021</td>\n",
       "      <td>06</td>\n",
       "      <td>4584510417</td>\n",
       "    </tr>\n",
       "    <tr>\n",
       "      <th>72</th>\n",
       "      <td>2021</td>\n",
       "      <td>07</td>\n",
       "      <td>4778909421</td>\n",
       "    </tr>\n",
       "    <tr>\n",
       "      <th>73</th>\n",
       "      <td>2021</td>\n",
       "      <td>08</td>\n",
       "      <td>4732194000</td>\n",
       "    </tr>\n",
       "  </tbody>\n",
       "</table>\n",
       "<p>74 rows × 3 columns</p>\n",
       "</div>"
      ],
      "text/plain": [
       "    year month       views\n",
       "0   2015    07  3288755294\n",
       "1   2015    08  3302333038\n",
       "2   2015    09  3170203333\n",
       "3   2015    10  3268499132\n",
       "4   2015    11  3236601070\n",
       "..   ...   ...         ...\n",
       "69  2021    04  4759095083\n",
       "70  2021    05  4976579558\n",
       "71  2021    06  4584510417\n",
       "72  2021    07  4778909421\n",
       "73  2021    08  4732194000\n",
       "\n",
       "[74 rows x 3 columns]"
      ]
     },
     "execution_count": 10,
     "metadata": {},
     "output_type": "execute_result"
    }
   ],
   "source": [
    "monthly_pageviews_mobile = pd.concat([monthly_pageviews_mobile_web,monthly_pageviews_mobile_app])\n",
    "monthly_pageviews_mobile = monthly_pageviews_mobile.groupby(['year','month']).sum('views').reset_index()\n",
    "monthly_pageviews_mobile"
   ]
  },
  {
   "cell_type": "markdown",
   "id": "e04c732c",
   "metadata": {},
   "source": [
    "Before we combine all data into a single CSV file, we will add a column to each set of data that identifies the API and access method. Note that the day and hour values will be discarded when combining all the data into one dataframe."
   ]
  },
  {
   "cell_type": "code",
   "execution_count": 11,
   "id": "08098e3b",
   "metadata": {},
   "outputs": [],
   "source": [
    "# Create column for api type\n",
    "monthly_legacy_desktop[\"api_access\"] = 'pagecount_desktop_views'\n",
    "monthly_legacy_mobile[\"api_access\"] = 'pagecount_mobile_views'\n",
    "monthly_pageviews_desktop[\"api_access\"] = 'pageview_desktop_views'\n",
    "monthly_pageviews_mobile[\"api_access\"] = 'pageview_mobile_views'"
   ]
  },
  {
   "cell_type": "code",
   "execution_count": 12,
   "id": "e133e2e1",
   "metadata": {},
   "outputs": [],
   "source": [
    "# Combine together to one dataframe\n",
    "monthly_legacy_desktop.rename(columns={\"count\": \"views\"},inplace = True)\n",
    "monthly_legacy_mobile.rename(columns={\"count\": \"views\"},inplace = True)\n",
    "monthly_views = pd.concat([monthly_legacy_desktop,monthly_legacy_mobile, monthly_pageviews_desktop, monthly_pageviews_mobile])"
   ]
  },
  {
   "cell_type": "code",
   "execution_count": 13,
   "id": "f28f28f7",
   "metadata": {},
   "outputs": [],
   "source": [
    "# Pivot data frame by year and month for each api/views\n",
    "monthly_views = monthly_views.pivot_table(\n",
    "    index=['year', 'month'],\n",
    "    columns='api_access',\n",
    "    values='views',\n",
    "    fill_value=0)\n",
    "monthly_views.index.name = monthly_views.columns.name = None"
   ]
  },
  {
   "cell_type": "markdown",
   "id": "c739d9d4",
   "metadata": {},
   "source": [
    "Once we combine all the data into `monthly_views`, we can calculate the total views per month for English Wikipedia. Finally, we will save the data as a CSV."
   ]
  },
  {
   "cell_type": "code",
   "execution_count": 14,
   "id": "88ba79c3",
   "metadata": {},
   "outputs": [
    {
     "data": {
      "text/html": [
       "<div>\n",
       "<style scoped>\n",
       "    .dataframe tbody tr th:only-of-type {\n",
       "        vertical-align: middle;\n",
       "    }\n",
       "\n",
       "    .dataframe tbody tr th {\n",
       "        vertical-align: top;\n",
       "    }\n",
       "\n",
       "    .dataframe thead th {\n",
       "        text-align: right;\n",
       "    }\n",
       "</style>\n",
       "<table border=\"1\" class=\"dataframe\">\n",
       "  <thead>\n",
       "    <tr style=\"text-align: right;\">\n",
       "      <th></th>\n",
       "      <th></th>\n",
       "      <th>pagecount_all_views</th>\n",
       "      <th>pagecount_desktop_views</th>\n",
       "      <th>pagecount_mobile_views</th>\n",
       "      <th>pageview_all_views</th>\n",
       "      <th>pageview_desktop_views</th>\n",
       "      <th>pageview_mobile_views</th>\n",
       "    </tr>\n",
       "    <tr>\n",
       "      <th>year</th>\n",
       "      <th>month</th>\n",
       "      <th></th>\n",
       "      <th></th>\n",
       "      <th></th>\n",
       "      <th></th>\n",
       "      <th></th>\n",
       "      <th></th>\n",
       "    </tr>\n",
       "  </thead>\n",
       "  <tbody>\n",
       "    <tr>\n",
       "      <th>2007</th>\n",
       "      <th>12</th>\n",
       "      <td>2998331524</td>\n",
       "      <td>2998331524</td>\n",
       "      <td>0</td>\n",
       "      <td>0</td>\n",
       "      <td>0</td>\n",
       "      <td>0</td>\n",
       "    </tr>\n",
       "    <tr>\n",
       "      <th rowspan=\"4\" valign=\"top\">2008</th>\n",
       "      <th>01</th>\n",
       "      <td>4930902570</td>\n",
       "      <td>4930902570</td>\n",
       "      <td>0</td>\n",
       "      <td>0</td>\n",
       "      <td>0</td>\n",
       "      <td>0</td>\n",
       "    </tr>\n",
       "    <tr>\n",
       "      <th>02</th>\n",
       "      <td>4818393763</td>\n",
       "      <td>4818393763</td>\n",
       "      <td>0</td>\n",
       "      <td>0</td>\n",
       "      <td>0</td>\n",
       "      <td>0</td>\n",
       "    </tr>\n",
       "    <tr>\n",
       "      <th>03</th>\n",
       "      <td>4955405809</td>\n",
       "      <td>4955405809</td>\n",
       "      <td>0</td>\n",
       "      <td>0</td>\n",
       "      <td>0</td>\n",
       "      <td>0</td>\n",
       "    </tr>\n",
       "    <tr>\n",
       "      <th>04</th>\n",
       "      <td>5159162183</td>\n",
       "      <td>5159162183</td>\n",
       "      <td>0</td>\n",
       "      <td>0</td>\n",
       "      <td>0</td>\n",
       "      <td>0</td>\n",
       "    </tr>\n",
       "    <tr>\n",
       "      <th>...</th>\n",
       "      <th>...</th>\n",
       "      <td>...</td>\n",
       "      <td>...</td>\n",
       "      <td>...</td>\n",
       "      <td>...</td>\n",
       "      <td>...</td>\n",
       "      <td>...</td>\n",
       "    </tr>\n",
       "    <tr>\n",
       "      <th rowspan=\"5\" valign=\"top\">2021</th>\n",
       "      <th>04</th>\n",
       "      <td>0</td>\n",
       "      <td>0</td>\n",
       "      <td>0</td>\n",
       "      <td>7641809575</td>\n",
       "      <td>2882714492</td>\n",
       "      <td>4759095083</td>\n",
       "    </tr>\n",
       "    <tr>\n",
       "      <th>05</th>\n",
       "      <td>0</td>\n",
       "      <td>0</td>\n",
       "      <td>0</td>\n",
       "      <td>7800995735</td>\n",
       "      <td>2824416177</td>\n",
       "      <td>4976579558</td>\n",
       "    </tr>\n",
       "    <tr>\n",
       "      <th>06</th>\n",
       "      <td>0</td>\n",
       "      <td>0</td>\n",
       "      <td>0</td>\n",
       "      <td>7090481783</td>\n",
       "      <td>2505971366</td>\n",
       "      <td>4584510417</td>\n",
       "    </tr>\n",
       "    <tr>\n",
       "      <th>07</th>\n",
       "      <td>0</td>\n",
       "      <td>0</td>\n",
       "      <td>0</td>\n",
       "      <td>7544493789</td>\n",
       "      <td>2765584368</td>\n",
       "      <td>4778909421</td>\n",
       "    </tr>\n",
       "    <tr>\n",
       "      <th>08</th>\n",
       "      <td>0</td>\n",
       "      <td>0</td>\n",
       "      <td>0</td>\n",
       "      <td>7495607934</td>\n",
       "      <td>2763413934</td>\n",
       "      <td>4732194000</td>\n",
       "    </tr>\n",
       "  </tbody>\n",
       "</table>\n",
       "<p>165 rows × 6 columns</p>\n",
       "</div>"
      ],
      "text/plain": [
       "            pagecount_all_views  pagecount_desktop_views  \\\n",
       "year month                                                 \n",
       "2007 12              2998331524               2998331524   \n",
       "2008 01              4930902570               4930902570   \n",
       "     02              4818393763               4818393763   \n",
       "     03              4955405809               4955405809   \n",
       "     04              5159162183               5159162183   \n",
       "...                         ...                      ...   \n",
       "2021 04                       0                        0   \n",
       "     05                       0                        0   \n",
       "     06                       0                        0   \n",
       "     07                       0                        0   \n",
       "     08                       0                        0   \n",
       "\n",
       "            pagecount_mobile_views  pageview_all_views  \\\n",
       "year month                                               \n",
       "2007 12                          0                   0   \n",
       "2008 01                          0                   0   \n",
       "     02                          0                   0   \n",
       "     03                          0                   0   \n",
       "     04                          0                   0   \n",
       "...                            ...                 ...   \n",
       "2021 04                          0          7641809575   \n",
       "     05                          0          7800995735   \n",
       "     06                          0          7090481783   \n",
       "     07                          0          7544493789   \n",
       "     08                          0          7495607934   \n",
       "\n",
       "            pageview_desktop_views  pageview_mobile_views  \n",
       "year month                                                 \n",
       "2007 12                          0                      0  \n",
       "2008 01                          0                      0  \n",
       "     02                          0                      0  \n",
       "     03                          0                      0  \n",
       "     04                          0                      0  \n",
       "...                            ...                    ...  \n",
       "2021 04                 2882714492             4759095083  \n",
       "     05                 2824416177             4976579558  \n",
       "     06                 2505971366             4584510417  \n",
       "     07                 2765584368             4778909421  \n",
       "     08                 2763413934             4732194000  \n",
       "\n",
       "[165 rows x 6 columns]"
      ]
     },
     "execution_count": 14,
     "metadata": {},
     "output_type": "execute_result"
    }
   ],
   "source": [
    "# Calculate total views for each api by year and month\n",
    "monthly_views['pagecount_all_views'] = monthly_views['pagecount_desktop_views'] + monthly_views['pagecount_mobile_views']\n",
    "monthly_views['pageview_all_views'] = monthly_views['pageview_desktop_views'] + monthly_views['pageview_mobile_views']\n",
    "monthly_views = monthly_views[['pagecount_all_views', 'pagecount_desktop_views', 'pagecount_mobile_views',\n",
    "                               'pageview_all_views', 'pageview_desktop_views', 'pageview_mobile_views']]\n",
    "monthly_views\n"
   ]
  },
  {
   "cell_type": "code",
   "execution_count": 15,
   "id": "367df85b",
   "metadata": {},
   "outputs": [],
   "source": [
    "monthly_views.to_csv('en-wikipedia_traffic_200712-' + last_month + '.csv')"
   ]
  },
  {
   "cell_type": "markdown",
   "id": "e97b3010",
   "metadata": {},
   "source": [
    "## Step 3: Analysis"
   ]
  },
  {
   "cell_type": "markdown",
   "id": "dab3b8d6",
   "metadata": {},
   "source": [
    "In our final step, we will visualize the dataset we created as a time series graph. Due to the nature of a time series, we will acknowledge unknown or missing data as `NaN` and convert the `year` and `month` variables into a `datetime` index."
   ]
  },
  {
   "cell_type": "code",
   "execution_count": 16,
   "id": "6236f12d",
   "metadata": {},
   "outputs": [],
   "source": [
    "import matplotlib.pyplot as plt\n",
    "import numpy as np"
   ]
  },
  {
   "cell_type": "code",
   "execution_count": 17,
   "id": "1058d8a4",
   "metadata": {},
   "outputs": [],
   "source": [
    "# Replace all 0 with NA before graphing\n",
    "cols = ['pagecount_all_views', 'pagecount_desktop_views', 'pagecount_mobile_views',\n",
    "        'pageview_all_views', 'pageview_desktop_views', 'pageview_mobile_views']\n",
    "monthly_views[cols] = monthly_views[cols].replace({0:np.nan, 0:np.nan, 0:np.nan, 0:np.nan, 0:np.nan, 0:np.nan})"
   ]
  },
  {
   "cell_type": "code",
   "execution_count": 18,
   "id": "8ad596a9",
   "metadata": {},
   "outputs": [],
   "source": [
    "# Set index as datetime for time series\n",
    "monthly_views = monthly_views.reset_index()\n",
    "monthly_views = monthly_views.set_index(pd.to_datetime(monthly_views[['year','month']].assign(day=1)))"
   ]
  },
  {
   "cell_type": "code",
   "execution_count": 19,
   "id": "fe49c400",
   "metadata": {},
   "outputs": [
    {
     "data": {
      "image/png": "[encoded data removed]",
      "text/plain": [
       "<Figure size 864x432 with 1 Axes>"
      ]
     },
     "metadata": {
      "needs_background": "light"
     },
     "output_type": "display_data"
    }
   ],
   "source": [
    "# Create figure and plot space\n",
    "fig, ax = plt.subplots(figsize=(12, 6))\n",
    "\n",
    "# Plot all view counters\n",
    "monthly_views.pagecount_all_views[\"2008-01-01\":\"2016-07-01\"].plot(grid=True, label=\"pagecount all\", linestyle='dashed', color='green')\n",
    "monthly_views.pagecount_desktop_views[\"2008-01-01\":\"2016-07-01\"].plot(grid=True, label=\"pagecount desktop\", linestyle='dotted', color='blue')\n",
    "monthly_views.pagecount_mobile_views[\"2008-01-01\":\"2016-07-01\"].plot(grid=True, label=\"pagecount mobile\", linestyle='dotted', color='orange')\n",
    "monthly_views.pageview_all_views.plot(grid=True, label=\"pageview all\", color='green')\n",
    "monthly_views.pageview_desktop_views.plot(grid=True, label=\"pageview desktop\", color='blue')\n",
    "monthly_views.pageview_mobile_views.plot(grid=True, label=\"pageview mobile\", color='orange')\n",
    "\n",
    "# Set title and labels for axes\n",
    "ax.set(xlabel=\"Date\",\n",
    "       ylabel=\"Count of Page Views (billions)\",\n",
    "       title=\"Monthly English Wikipedia Traffic\")\n",
    "\n",
    "# Add legend\n",
    "ax.legend()\n",
    "\n",
    "# Set lower y-axis limit\n",
    "plt.gca().set_ylim(bottom=0)\n",
    "\n",
    "# Generate a .png formatted image of final graph.\n",
    "plt.savefig('en-wikipedia_traffic_200712-' + last_month + '.png')"
   ]
  },
  {
   "cell_type": "markdown",
   "id": "2ce5636a",
   "metadata": {},
   "source": [
    "Solid lines mark data the from the current API. Notice how the data does not reconcile in the overlapping year, where we have data from both Legacy Pagecount and Pageview. This is most likely attributed to the inclusion of inorganic traffic in Legacy Pagecount, but not Pageview."
   ]
  },
  {
   "cell_type": "code",
   "execution_count": null,
   "id": "cef9be9e",
   "metadata": {},
   "outputs": [],
   "source": []
  }
 ],
 "metadata": {
  "kernelspec": {
   "display_name": "Python 3 (ipykernel)",
   "language": "python",
   "name": "python3"
  },
  "language_info": {
   "codemirror_mode": {
    "name": "ipython",
    "version": 3
   },
   "file_extension": ".py",
   "mimetype": "text/x-python",
   "name": "python",
   "nbconvert_exporter": "python",
   "pygments_lexer": "ipython3",
   "version": "3.8.10"
  }
 },
 "nbformat": 4,
 "nbformat_minor": 5
}
